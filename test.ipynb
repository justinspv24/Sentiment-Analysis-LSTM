{
 "cells": [
  {
   "cell_type": "code",
   "execution_count": 7,
   "id": "9afe180f",
   "metadata": {},
   "outputs": [
    {
     "name": "stderr",
     "output_type": "stream",
     "text": [
      "WARNING:absl:Compiled the loaded model, but the compiled metrics have yet to be built. `model.compile_metrics` will be empty until you train or evaluate the model.\n"
     ]
    },
    {
     "name": "stdout",
     "output_type": "stream",
     "text": [
      "Tokenized sequence: [[1, 1209, 3, 23, 297]]\n",
      "Padded sequence: [[   0    0    0    0    0    0    0    0    0    0    0    0    0    0\n",
      "     0    0    0    0    0    0    0    0    0    0    0    0    0    0\n",
      "     0    0    0    0    0    0    0    0    0    0    0    0    0    0\n",
      "     0    0    0    0    0    0    0    0    0    0    0    0    0    0\n",
      "     0    0    0    0    0    0    0    0    0    0    0    0    0    0\n",
      "     0    0    0    0    0    0    0    0    0    0    0    0    0    0\n",
      "     0    0    0    0    0    0    0    0    0    0    0    1 1209    3\n",
      "    23  297]]\n",
      "\u001b[1m1/1\u001b[0m \u001b[32m━━━━━━━━━━━━━━━━━━━━\u001b[0m\u001b[37m\u001b[0m \u001b[1m1s\u001b[0m 575ms/step\n",
      "Raw prediction: [[0.05223206 0.6659435  0.02231927 0.04595992 0.21354525]]\n",
      "Predicted sentiment label: ['extremely positive']\n",
      "The predicted sentiment is: extremely positive\n"
     ]
    }
   ],
   "source": [
    "import tensorflow as tf\n",
    "from tensorflow.keras.models import load_model\n",
    "import pickle\n",
    "import numpy as np\n",
    "\n",
    "# Load the model\n",
    "model = load_model('sentiment_analysis_lstm_model.h5')\n",
    "\n",
    "# Load the tokenizer\n",
    "with open('tokenizer.pkl', 'rb') as file:\n",
    "    tokenizer = pickle.load(file)\n",
    "\n",
    "# Load the label encoder\n",
    "with open('label_encoder.pkl', 'rb') as file:\n",
    "    label_encoder = pickle.load(file)\n",
    "\n",
    "def predict_sentiment(sentence):\n",
    "    # Tokenize the sentence\n",
    "    sequence = tokenizer.texts_to_sequences([sentence])\n",
    "    print(f\"Tokenized sequence: {sequence}\")\n",
    "    \n",
    "    padded_sequence = tf.keras.preprocessing.sequence.pad_sequences(sequence, maxlen=100)\n",
    "    print(f\"Padded sequence: {padded_sequence}\")\n",
    "\n",
    "    # Predict the sentiment\n",
    "    prediction = model.predict(padded_sequence)\n",
    "    print(f\"Raw prediction: {prediction}\")\n",
    "\n",
    "    # Convert prediction to label\n",
    "    sentiment = label_encoder.inverse_transform([np.argmax(prediction)])\n",
    "    print(f\"Predicted sentiment label: {sentiment}\")\n",
    "\n",
    "    return sentiment[0]\n",
    "\n",
    "# Test the function with a new sentence\n",
    "new_sentence = \"The movie was just awesome\"\n",
    "predicted_sentiment = predict_sentiment(new_sentence)\n",
    "print(f\"The predicted sentiment is: {predicted_sentiment}\")\n"
   ]
  },
  {
   "cell_type": "code",
   "execution_count": null,
   "id": "37c3020f",
   "metadata": {},
   "outputs": [],
   "source": []
  }
 ],
 "metadata": {
  "kernelspec": {
   "display_name": "Python 3 (ipykernel)",
   "language": "python",
   "name": "python3"
  },
  "language_info": {
   "codemirror_mode": {
    "name": "ipython",
    "version": 3
   },
   "file_extension": ".py",
   "mimetype": "text/x-python",
   "name": "python",
   "nbconvert_exporter": "python",
   "pygments_lexer": "ipython3",
   "version": "3.9.13"
  }
 },
 "nbformat": 4,
 "nbformat_minor": 5
}
